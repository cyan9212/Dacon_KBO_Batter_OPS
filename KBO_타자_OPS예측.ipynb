{
  "nbformat": 4,
  "nbformat_minor": 0,
  "metadata": {
    "colab": {
      "name": "KBO 타자 OPS예측.ipynb",
      "provenance": [],
      "authorship_tag": "ABX9TyNOeGpfuen1kuHx/XoaYd6b",
      "include_colab_link": true
    },
    "kernelspec": {
      "name": "python3",
      "display_name": "Python 3"
    },
    "language_info": {
      "name": "python"
    }
  },
  "cells": [
    {
      "cell_type": "markdown",
      "metadata": {
        "id": "view-in-github",
        "colab_type": "text"
      },
      "source": [
        "<a href=\"https://colab.research.google.com/github/cyan9212/Dacon_KBO_Batter_OPS/blob/main/KBO_%ED%83%80%EC%9E%90_OPS%EC%98%88%EC%B8%A1.ipynb\" target=\"_parent\"><img src=\"https://colab.research.google.com/assets/colab-badge.svg\" alt=\"Open In Colab\"/></a>"
      ]
    },
    {
      "cell_type": "code",
      "metadata": {
        "id": "pNlQ0YnyQn_G"
      },
      "source": [
        "from google.colab import files\n",
        "from matplotlib import font_manager, rc\n",
        "import matplotlib\n",
        "import matplotlib.pyplot as plt\n",
        "import seaborn as sns\n",
        "import pandas as pd\n",
        "import numpy as np\n",
        "import platform"
      ],
      "execution_count": null,
      "outputs": []
    },
    {
      "cell_type": "code",
      "metadata": {
        "colab": {
          "base_uri": "https://localhost:8080/"
        },
        "id": "3ScdhLY0DQwI",
        "outputId": "4e05c430-fc1f-420a-ad06-75973e161b40"
      },
      "source": [
        "!sudo apt-get install -y fonts-nanum\n",
        "!sudo fc-cache -fv\n",
        "!rm ~/.cache/matplotlib -rf"
      ],
      "execution_count": null,
      "outputs": [
        {
          "output_type": "stream",
          "name": "stdout",
          "text": [
            "Reading package lists... Done\n",
            "Building dependency tree       \n",
            "Reading state information... Done\n",
            "fonts-nanum is already the newest version (20170925-1).\n",
            "0 upgraded, 0 newly installed, 0 to remove and 37 not upgraded.\n",
            "/usr/share/fonts: caching, new cache contents: 0 fonts, 1 dirs\n",
            "/usr/share/fonts/truetype: caching, new cache contents: 0 fonts, 3 dirs\n",
            "/usr/share/fonts/truetype/humor-sans: caching, new cache contents: 1 fonts, 0 dirs\n",
            "/usr/share/fonts/truetype/liberation: caching, new cache contents: 16 fonts, 0 dirs\n",
            "/usr/share/fonts/truetype/nanum: caching, new cache contents: 10 fonts, 0 dirs\n",
            "/usr/local/share/fonts: caching, new cache contents: 0 fonts, 0 dirs\n",
            "/root/.local/share/fonts: skipping, no such directory\n",
            "/root/.fonts: skipping, no such directory\n",
            "/var/cache/fontconfig: cleaning cache directory\n",
            "/root/.cache/fontconfig: not cleaning non-existent cache directory\n",
            "/root/.fontconfig: not cleaning non-existent cache directory\n",
            "fc-cache: succeeded\n"
          ]
        }
      ]
    },
    {
      "cell_type": "code",
      "metadata": {
        "colab": {
          "resources": {
            "http://localhost:8080/nbextensions/google.colab/files.js": {
              "data": "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",
              "ok": true,
              "headers": [
                [
                  "content-type",
                  "application/javascript"
                ]
              ],
              "status": 200,
              "status_text": ""
            }
          },
          "base_uri": "https://localhost:8080/",
          "height": 184
        },
        "id": "4fjPJ53SRu4_",
        "outputId": "5cdab6a8-1f58-48fc-cf84-c42955ef4831"
      },
      "source": [
        "# matplotlib 폰트 변경\n",
        "plt.rc('font', family='NanumBarunGothic') \n",
        "\n",
        "# 그래프에서 마이너스 기호가 표시되도록 설정\n",
        "matplotlib.rcParams['axes.unicode_minus'] = False\n",
        "\n",
        "#Colab Notebook에 파일 업로드 \n",
        "uploader = files.upload()"
      ],
      "execution_count": null,
      "outputs": [
        {
          "output_type": "display_data",
          "data": {
            "text/html": [
              "\n",
              "     <input type=\"file\" id=\"files-cfa41faf-e6c7-45f0-b732-4906a3af8f5b\" name=\"files[]\" multiple disabled\n",
              "        style=\"border:none\" />\n",
              "     <output id=\"result-cfa41faf-e6c7-45f0-b732-4906a3af8f5b\">\n",
              "      Upload widget is only available when the cell has been executed in the\n",
              "      current browser session. Please rerun this cell to enable.\n",
              "      </output>\n",
              "      <script src=\"/nbextensions/google.colab/files.js\"></script> "
            ],
            "text/plain": [
              "<IPython.core.display.HTML object>"
            ]
          },
          "metadata": {}
        },
        {
          "output_type": "stream",
          "name": "stdout",
          "text": [
            "Saving Pre_Season_Batter.csv to Pre_Season_Batter (1).csv\n",
            "Saving Regular_Season_Batter.csv to Regular_Season_Batter (1).csv\n",
            "Saving Regular_Season_Batter_Day_by_Day_b4.csv to Regular_Season_Batter_Day_by_Day_b4 (1).csv\n",
            "Saving submission.csv to submission (1).csv\n"
          ]
        }
      ]
    },
    {
      "cell_type": "markdown",
      "metadata": {
        "id": "aBUEKZzpq2hl"
      },
      "source": [
        "# 1. EDA"
      ]
    },
    {
      "cell_type": "markdown",
      "metadata": {
        "id": "u96MToTmq7lh"
      },
      "source": [
        "**1.1 프리시즌 데이터 분석**"
      ]
    },
    {
      "cell_type": "code",
      "metadata": {
        "colab": {
          "base_uri": "https://localhost:8080/",
          "height": 225
        },
        "id": "a1Vz6-GOq4Sr",
        "outputId": "98d7faaf-0baa-40c1-c976-9800eb400b16"
      },
      "source": [
        "#프리시즌 데이터 로드 \n",
        "preseason_df = pd.read_csv('Pre_Season_Batter.csv')\n",
        "\n",
        "#정규시즌 데이터 로드\n",
        "regular_season_df = pd.read_csv('Regular_Season_Batter.csv')\n",
        "\n",
        "#데이터 크기 확인\n",
        "print(preseason_df.shape)\n",
        "\n",
        "#데이터 상단 출력\n",
        "preseason_df.head()"
      ],
      "execution_count": null,
      "outputs": [
        {
          "output_type": "stream",
          "name": "stdout",
          "text": [
            "(1393, 29)\n"
          ]
        },
        {
          "output_type": "execute_result",
          "data": {
            "text/html": [
              "<div>\n",
              "<style scoped>\n",
              "    .dataframe tbody tr th:only-of-type {\n",
              "        vertical-align: middle;\n",
              "    }\n",
              "\n",
              "    .dataframe tbody tr th {\n",
              "        vertical-align: top;\n",
              "    }\n",
              "\n",
              "    .dataframe thead th {\n",
              "        text-align: right;\n",
              "    }\n",
              "</style>\n",
              "<table border=\"1\" class=\"dataframe\">\n",
              "  <thead>\n",
              "    <tr style=\"text-align: right;\">\n",
              "      <th></th>\n",
              "      <th>batter_id</th>\n",
              "      <th>batter_name</th>\n",
              "      <th>year</th>\n",
              "      <th>team</th>\n",
              "      <th>avg</th>\n",
              "      <th>G</th>\n",
              "      <th>AB</th>\n",
              "      <th>R</th>\n",
              "      <th>H</th>\n",
              "      <th>2B</th>\n",
              "      <th>3B</th>\n",
              "      <th>HR</th>\n",
              "      <th>TB</th>\n",
              "      <th>RBI</th>\n",
              "      <th>SB</th>\n",
              "      <th>CS</th>\n",
              "      <th>BB</th>\n",
              "      <th>HBP</th>\n",
              "      <th>SO</th>\n",
              "      <th>GDP</th>\n",
              "      <th>SLG</th>\n",
              "      <th>OBP</th>\n",
              "      <th>E</th>\n",
              "      <th>height/weight</th>\n",
              "      <th>year_born</th>\n",
              "      <th>position</th>\n",
              "      <th>career</th>\n",
              "      <th>starting_salary</th>\n",
              "      <th>OPS</th>\n",
              "    </tr>\n",
              "  </thead>\n",
              "  <tbody>\n",
              "    <tr>\n",
              "      <th>0</th>\n",
              "      <td>0</td>\n",
              "      <td>가르시아</td>\n",
              "      <td>2018</td>\n",
              "      <td>LG</td>\n",
              "      <td>0.350</td>\n",
              "      <td>7</td>\n",
              "      <td>20</td>\n",
              "      <td>1</td>\n",
              "      <td>7</td>\n",
              "      <td>1</td>\n",
              "      <td>0</td>\n",
              "      <td>1</td>\n",
              "      <td>11</td>\n",
              "      <td>5</td>\n",
              "      <td>0</td>\n",
              "      <td>0</td>\n",
              "      <td>2</td>\n",
              "      <td>0</td>\n",
              "      <td>3</td>\n",
              "      <td>1</td>\n",
              "      <td>0.550</td>\n",
              "      <td>0.409</td>\n",
              "      <td>1</td>\n",
              "      <td>177cm/93kg</td>\n",
              "      <td>1985년 04월 12일</td>\n",
              "      <td>내야수(우투우타)</td>\n",
              "      <td>쿠바 Ciego de Avila Maximo Gomez Baez(대)</td>\n",
              "      <td>NaN</td>\n",
              "      <td>0.959</td>\n",
              "    </tr>\n",
              "    <tr>\n",
              "      <th>1</th>\n",
              "      <td>1</td>\n",
              "      <td>강경학</td>\n",
              "      <td>2011</td>\n",
              "      <td>한화</td>\n",
              "      <td>0.000</td>\n",
              "      <td>4</td>\n",
              "      <td>2</td>\n",
              "      <td>2</td>\n",
              "      <td>0</td>\n",
              "      <td>0</td>\n",
              "      <td>0</td>\n",
              "      <td>0</td>\n",
              "      <td>0</td>\n",
              "      <td>1</td>\n",
              "      <td>0</td>\n",
              "      <td>1</td>\n",
              "      <td>0</td>\n",
              "      <td>2</td>\n",
              "      <td>1</td>\n",
              "      <td>0</td>\n",
              "      <td>0.000</td>\n",
              "      <td>0.500</td>\n",
              "      <td>0</td>\n",
              "      <td>180cm/72kg</td>\n",
              "      <td>1992년 08월 11일</td>\n",
              "      <td>내야수(우투좌타)</td>\n",
              "      <td>광주대성초-광주동성중-광주동성고</td>\n",
              "      <td>10000만원</td>\n",
              "      <td>0.500</td>\n",
              "    </tr>\n",
              "    <tr>\n",
              "      <th>2</th>\n",
              "      <td>1</td>\n",
              "      <td>강경학</td>\n",
              "      <td>2014</td>\n",
              "      <td>한화</td>\n",
              "      <td>-</td>\n",
              "      <td>4</td>\n",
              "      <td>0</td>\n",
              "      <td>2</td>\n",
              "      <td>0</td>\n",
              "      <td>0</td>\n",
              "      <td>0</td>\n",
              "      <td>0</td>\n",
              "      <td>0</td>\n",
              "      <td>0</td>\n",
              "      <td>0</td>\n",
              "      <td>0</td>\n",
              "      <td>0</td>\n",
              "      <td>0</td>\n",
              "      <td>0</td>\n",
              "      <td>0</td>\n",
              "      <td>NaN</td>\n",
              "      <td>NaN</td>\n",
              "      <td>0</td>\n",
              "      <td>180cm/72kg</td>\n",
              "      <td>1992년 08월 11일</td>\n",
              "      <td>내야수(우투좌타)</td>\n",
              "      <td>광주대성초-광주동성중-광주동성고</td>\n",
              "      <td>10000만원</td>\n",
              "      <td>NaN</td>\n",
              "    </tr>\n",
              "    <tr>\n",
              "      <th>3</th>\n",
              "      <td>1</td>\n",
              "      <td>강경학</td>\n",
              "      <td>2015</td>\n",
              "      <td>한화</td>\n",
              "      <td>0.130</td>\n",
              "      <td>10</td>\n",
              "      <td>23</td>\n",
              "      <td>3</td>\n",
              "      <td>3</td>\n",
              "      <td>0</td>\n",
              "      <td>0</td>\n",
              "      <td>0</td>\n",
              "      <td>3</td>\n",
              "      <td>1</td>\n",
              "      <td>3</td>\n",
              "      <td>0</td>\n",
              "      <td>4</td>\n",
              "      <td>1</td>\n",
              "      <td>9</td>\n",
              "      <td>0</td>\n",
              "      <td>0.130</td>\n",
              "      <td>0.286</td>\n",
              "      <td>2</td>\n",
              "      <td>180cm/72kg</td>\n",
              "      <td>1992년 08월 11일</td>\n",
              "      <td>내야수(우투좌타)</td>\n",
              "      <td>광주대성초-광주동성중-광주동성고</td>\n",
              "      <td>10000만원</td>\n",
              "      <td>0.416</td>\n",
              "    </tr>\n",
              "    <tr>\n",
              "      <th>4</th>\n",
              "      <td>1</td>\n",
              "      <td>강경학</td>\n",
              "      <td>2016</td>\n",
              "      <td>한화</td>\n",
              "      <td>0.188</td>\n",
              "      <td>14</td>\n",
              "      <td>32</td>\n",
              "      <td>4</td>\n",
              "      <td>6</td>\n",
              "      <td>1</td>\n",
              "      <td>1</td>\n",
              "      <td>0</td>\n",
              "      <td>9</td>\n",
              "      <td>2</td>\n",
              "      <td>1</td>\n",
              "      <td>2</td>\n",
              "      <td>0</td>\n",
              "      <td>1</td>\n",
              "      <td>10</td>\n",
              "      <td>0</td>\n",
              "      <td>0.281</td>\n",
              "      <td>0.212</td>\n",
              "      <td>0</td>\n",
              "      <td>180cm/72kg</td>\n",
              "      <td>1992년 08월 11일</td>\n",
              "      <td>내야수(우투좌타)</td>\n",
              "      <td>광주대성초-광주동성중-광주동성고</td>\n",
              "      <td>10000만원</td>\n",
              "      <td>0.493</td>\n",
              "    </tr>\n",
              "  </tbody>\n",
              "</table>\n",
              "</div>"
            ],
            "text/plain": [
              "   batter_id batter_name  ...  starting_salary    OPS\n",
              "0          0        가르시아  ...              NaN  0.959\n",
              "1          1         강경학  ...          10000만원  0.500\n",
              "2          1         강경학  ...          10000만원    NaN\n",
              "3          1         강경학  ...          10000만원  0.416\n",
              "4          1         강경학  ...          10000만원  0.493\n",
              "\n",
              "[5 rows x 29 columns]"
            ]
          },
          "metadata": {},
          "execution_count": 4
        }
      ]
    },
    {
      "cell_type": "code",
      "metadata": {
        "colab": {
          "base_uri": "https://localhost:8080/",
          "height": 320
        },
        "id": "4EdQ04Mkr4qr",
        "outputId": "3e4c5f49-e73b-4384-c829-62175da3d34c"
      },
      "source": [
        "# 데이터 기초통계량 확인\n",
        "display(preseason_df.describe())"
      ],
      "execution_count": null,
      "outputs": [
        {
          "output_type": "display_data",
          "data": {
            "text/html": [
              "<div>\n",
              "<style scoped>\n",
              "    .dataframe tbody tr th:only-of-type {\n",
              "        vertical-align: middle;\n",
              "    }\n",
              "\n",
              "    .dataframe tbody tr th {\n",
              "        vertical-align: top;\n",
              "    }\n",
              "\n",
              "    .dataframe thead th {\n",
              "        text-align: right;\n",
              "    }\n",
              "</style>\n",
              "<table border=\"1\" class=\"dataframe\">\n",
              "  <thead>\n",
              "    <tr style=\"text-align: right;\">\n",
              "      <th></th>\n",
              "      <th>batter_id</th>\n",
              "      <th>year</th>\n",
              "      <th>G</th>\n",
              "      <th>AB</th>\n",
              "      <th>R</th>\n",
              "      <th>H</th>\n",
              "      <th>2B</th>\n",
              "      <th>3B</th>\n",
              "      <th>HR</th>\n",
              "      <th>TB</th>\n",
              "      <th>RBI</th>\n",
              "      <th>SB</th>\n",
              "      <th>CS</th>\n",
              "      <th>BB</th>\n",
              "      <th>HBP</th>\n",
              "      <th>SO</th>\n",
              "      <th>GDP</th>\n",
              "      <th>SLG</th>\n",
              "      <th>OBP</th>\n",
              "      <th>E</th>\n",
              "      <th>OPS</th>\n",
              "    </tr>\n",
              "  </thead>\n",
              "  <tbody>\n",
              "    <tr>\n",
              "      <th>count</th>\n",
              "      <td>1393.000000</td>\n",
              "      <td>1393.000000</td>\n",
              "      <td>1393.000000</td>\n",
              "      <td>1393.000000</td>\n",
              "      <td>1393.000000</td>\n",
              "      <td>1393.000000</td>\n",
              "      <td>1393.000000</td>\n",
              "      <td>1393.000000</td>\n",
              "      <td>1393.000000</td>\n",
              "      <td>1393.000000</td>\n",
              "      <td>1393.000000</td>\n",
              "      <td>1393.000000</td>\n",
              "      <td>1393.000000</td>\n",
              "      <td>1393.000000</td>\n",
              "      <td>1393.000000</td>\n",
              "      <td>1393.000000</td>\n",
              "      <td>1393.000000</td>\n",
              "      <td>1364.000000</td>\n",
              "      <td>1368.000000</td>\n",
              "      <td>1393.000000</td>\n",
              "      <td>1364.000000</td>\n",
              "    </tr>\n",
              "    <tr>\n",
              "      <th>mean</th>\n",
              "      <td>173.434314</td>\n",
              "      <td>2013.014358</td>\n",
              "      <td>8.705671</td>\n",
              "      <td>19.201723</td>\n",
              "      <td>2.679828</td>\n",
              "      <td>5.021536</td>\n",
              "      <td>0.954774</td>\n",
              "      <td>0.119885</td>\n",
              "      <td>0.391960</td>\n",
              "      <td>7.391960</td>\n",
              "      <td>2.430725</td>\n",
              "      <td>0.629576</td>\n",
              "      <td>0.291457</td>\n",
              "      <td>1.877961</td>\n",
              "      <td>0.330223</td>\n",
              "      <td>3.714286</td>\n",
              "      <td>0.447236</td>\n",
              "      <td>0.361012</td>\n",
              "      <td>0.317912</td>\n",
              "      <td>0.381910</td>\n",
              "      <td>0.676924</td>\n",
              "    </tr>\n",
              "    <tr>\n",
              "      <th>std</th>\n",
              "      <td>94.716851</td>\n",
              "      <td>4.166757</td>\n",
              "      <td>5.562686</td>\n",
              "      <td>13.395946</td>\n",
              "      <td>2.637212</td>\n",
              "      <td>4.232584</td>\n",
              "      <td>1.196904</td>\n",
              "      <td>0.379976</td>\n",
              "      <td>0.748557</td>\n",
              "      <td>6.538787</td>\n",
              "      <td>2.698122</td>\n",
              "      <td>1.146854</td>\n",
              "      <td>0.595522</td>\n",
              "      <td>2.053392</td>\n",
              "      <td>0.642204</td>\n",
              "      <td>3.180884</td>\n",
              "      <td>0.723364</td>\n",
              "      <td>0.269892</td>\n",
              "      <td>0.151489</td>\n",
              "      <td>0.729521</td>\n",
              "      <td>0.386933</td>\n",
              "    </tr>\n",
              "    <tr>\n",
              "      <th>min</th>\n",
              "      <td>0.000000</td>\n",
              "      <td>2002.000000</td>\n",
              "      <td>1.000000</td>\n",
              "      <td>0.000000</td>\n",
              "      <td>0.000000</td>\n",
              "      <td>0.000000</td>\n",
              "      <td>0.000000</td>\n",
              "      <td>0.000000</td>\n",
              "      <td>0.000000</td>\n",
              "      <td>0.000000</td>\n",
              "      <td>0.000000</td>\n",
              "      <td>0.000000</td>\n",
              "      <td>0.000000</td>\n",
              "      <td>0.000000</td>\n",
              "      <td>0.000000</td>\n",
              "      <td>0.000000</td>\n",
              "      <td>0.000000</td>\n",
              "      <td>0.000000</td>\n",
              "      <td>0.000000</td>\n",
              "      <td>0.000000</td>\n",
              "      <td>0.000000</td>\n",
              "    </tr>\n",
              "    <tr>\n",
              "      <th>25%</th>\n",
              "      <td>99.000000</td>\n",
              "      <td>2010.000000</td>\n",
              "      <td>6.000000</td>\n",
              "      <td>9.000000</td>\n",
              "      <td>1.000000</td>\n",
              "      <td>2.000000</td>\n",
              "      <td>0.000000</td>\n",
              "      <td>0.000000</td>\n",
              "      <td>0.000000</td>\n",
              "      <td>2.000000</td>\n",
              "      <td>0.000000</td>\n",
              "      <td>0.000000</td>\n",
              "      <td>0.000000</td>\n",
              "      <td>0.000000</td>\n",
              "      <td>0.000000</td>\n",
              "      <td>1.000000</td>\n",
              "      <td>0.000000</td>\n",
              "      <td>0.217000</td>\n",
              "      <td>0.250000</td>\n",
              "      <td>0.000000</td>\n",
              "      <td>0.472000</td>\n",
              "    </tr>\n",
              "    <tr>\n",
              "      <th>50%</th>\n",
              "      <td>178.000000</td>\n",
              "      <td>2014.000000</td>\n",
              "      <td>9.000000</td>\n",
              "      <td>18.000000</td>\n",
              "      <td>2.000000</td>\n",
              "      <td>4.000000</td>\n",
              "      <td>1.000000</td>\n",
              "      <td>0.000000</td>\n",
              "      <td>0.000000</td>\n",
              "      <td>6.000000</td>\n",
              "      <td>2.000000</td>\n",
              "      <td>0.000000</td>\n",
              "      <td>0.000000</td>\n",
              "      <td>1.000000</td>\n",
              "      <td>0.000000</td>\n",
              "      <td>3.000000</td>\n",
              "      <td>0.000000</td>\n",
              "      <td>0.344500</td>\n",
              "      <td>0.333000</td>\n",
              "      <td>0.000000</td>\n",
              "      <td>0.675000</td>\n",
              "    </tr>\n",
              "    <tr>\n",
              "      <th>75%</th>\n",
              "      <td>254.000000</td>\n",
              "      <td>2017.000000</td>\n",
              "      <td>11.000000</td>\n",
              "      <td>28.000000</td>\n",
              "      <td>4.000000</td>\n",
              "      <td>8.000000</td>\n",
              "      <td>2.000000</td>\n",
              "      <td>0.000000</td>\n",
              "      <td>1.000000</td>\n",
              "      <td>11.000000</td>\n",
              "      <td>4.000000</td>\n",
              "      <td>1.000000</td>\n",
              "      <td>0.000000</td>\n",
              "      <td>3.000000</td>\n",
              "      <td>1.000000</td>\n",
              "      <td>5.000000</td>\n",
              "      <td>1.000000</td>\n",
              "      <td>0.478000</td>\n",
              "      <td>0.400000</td>\n",
              "      <td>1.000000</td>\n",
              "      <td>0.867000</td>\n",
              "    </tr>\n",
              "    <tr>\n",
              "      <th>max</th>\n",
              "      <td>344.000000</td>\n",
              "      <td>2018.000000</td>\n",
              "      <td>119.000000</td>\n",
              "      <td>183.000000</td>\n",
              "      <td>35.000000</td>\n",
              "      <td>51.000000</td>\n",
              "      <td>11.000000</td>\n",
              "      <td>4.000000</td>\n",
              "      <td>5.000000</td>\n",
              "      <td>68.000000</td>\n",
              "      <td>24.000000</td>\n",
              "      <td>9.000000</td>\n",
              "      <td>4.000000</td>\n",
              "      <td>21.000000</td>\n",
              "      <td>4.000000</td>\n",
              "      <td>36.000000</td>\n",
              "      <td>5.000000</td>\n",
              "      <td>4.000000</td>\n",
              "      <td>1.000000</td>\n",
              "      <td>5.000000</td>\n",
              "      <td>5.000000</td>\n",
              "    </tr>\n",
              "  </tbody>\n",
              "</table>\n",
              "</div>"
            ],
            "text/plain": [
              "         batter_id         year  ...            E          OPS\n",
              "count  1393.000000  1393.000000  ...  1393.000000  1364.000000\n",
              "mean    173.434314  2013.014358  ...     0.381910     0.676924\n",
              "std      94.716851     4.166757  ...     0.729521     0.386933\n",
              "min       0.000000  2002.000000  ...     0.000000     0.000000\n",
              "25%      99.000000  2010.000000  ...     0.000000     0.472000\n",
              "50%     178.000000  2014.000000  ...     0.000000     0.675000\n",
              "75%     254.000000  2017.000000  ...     1.000000     0.867000\n",
              "max     344.000000  2018.000000  ...     5.000000     5.000000\n",
              "\n",
              "[8 rows x 21 columns]"
            ]
          },
          "metadata": {}
        }
      ]
    },
    {
      "cell_type": "code",
      "metadata": {
        "colab": {
          "base_uri": "https://localhost:8080/",
          "height": 657
        },
        "id": "k2RzBmUNsRQO",
        "outputId": "7e1358b1-6007-43b8-9cc8-80cd71e27fe8"
      },
      "source": [
        "# 데이터 시각화\n",
        "preseason_df.hist(figsize=(10, 9))\n",
        "plt.tight_layout() # 그래프 간격 설정\n",
        "plt.show()"
      ],
      "execution_count": null,
      "outputs": [
        {
          "output_type": "display_data",
          "data": {
            "image/png": "[encoded data removed]",
            "text/plain": [
              "<Figure size 720x648 with 25 Axes>"
            ]
          },
          "metadata": {
            "needs_background": "light"
          }
        }
      ]
    },
    {
      "cell_type": "markdown",
      "metadata": {
        "id": "zRNX_qZAtUTm"
      },
      "source": [
        "2B, 3B, AB, BB, CS, SLG, R, TB 등 대부분의 값이 0에 가까운 낮은 값을 기록한 것을 확인할 수 있고 \n",
        "\n",
        "이는 프리시즌의 경기 수가 적어서 나타나는 현상이라고 추측 가능하다. \n",
        "\n",
        "연도의 분포를 살펴보면 과거로 갈수록 기록의 수가 적어지는 것을 확인할 수 있으며, \n",
        "\n",
        "이는 과거의 데이터일수록 기록한 데이터 수가 적음을 의미한다."
      ]
    },
    {
      "cell_type": "code",
      "metadata": {
        "id": "cXs7g7FTtzzY",
        "colab": {
          "base_uri": "https://localhost:8080/",
          "height": 143
        },
        "outputId": "83d258f2-6088-459b-a1a9-a3acfbc9a186"
      },
      "source": [
        "# 정규시즌 데이터에서 2002년 이후의 연도별 기록된 선수의 수\n",
        "regular_count = regular_season_df.groupby('year')['batter_id'].count().rename('regular')\n",
        "\n",
        "# 프리스즌 데이터에서 연도별 기록된 선수의 수\n",
        "preseason_count = preseason_df.groupby('year')['batter_id'].count().rename('preseason')\n",
        "\n",
        "pd.concat([regular_count, preseason_count, np.round(preseason_count/regular_count, 2).rename('ratio')], axis=1).transpose().loc[:,2002:]"
      ],
      "execution_count": null,
      "outputs": [
        {
          "output_type": "execute_result",
          "data": {
            "text/html": [
              "<div>\n",
              "<style scoped>\n",
              "    .dataframe tbody tr th:only-of-type {\n",
              "        vertical-align: middle;\n",
              "    }\n",
              "\n",
              "    .dataframe tbody tr th {\n",
              "        vertical-align: top;\n",
              "    }\n",
              "\n",
              "    .dataframe thead th {\n",
              "        text-align: right;\n",
              "    }\n",
              "</style>\n",
              "<table border=\"1\" class=\"dataframe\">\n",
              "  <thead>\n",
              "    <tr style=\"text-align: right;\">\n",
              "      <th>year</th>\n",
              "      <th>2002</th>\n",
              "      <th>2003</th>\n",
              "      <th>2004</th>\n",
              "      <th>2005</th>\n",
              "      <th>2006</th>\n",
              "      <th>2007</th>\n",
              "      <th>2008</th>\n",
              "      <th>2009</th>\n",
              "      <th>2010</th>\n",
              "      <th>2011</th>\n",
              "      <th>2012</th>\n",
              "      <th>2013</th>\n",
              "      <th>2014</th>\n",
              "      <th>2015</th>\n",
              "      <th>2016</th>\n",
              "      <th>2017</th>\n",
              "      <th>2018</th>\n",
              "    </tr>\n",
              "  </thead>\n",
              "  <tbody>\n",
              "    <tr>\n",
              "      <th>regular</th>\n",
              "      <td>43.00</td>\n",
              "      <td>54.00</td>\n",
              "      <td>68.00</td>\n",
              "      <td>73.00</td>\n",
              "      <td>85.00</td>\n",
              "      <td>98.00</td>\n",
              "      <td>115.00</td>\n",
              "      <td>124.00</td>\n",
              "      <td>130.00</td>\n",
              "      <td>151.0</td>\n",
              "      <td>174.0</td>\n",
              "      <td>194.00</td>\n",
              "      <td>186.00</td>\n",
              "      <td>207.00</td>\n",
              "      <td>213.00</td>\n",
              "      <td>217.00</td>\n",
              "      <td>227.0</td>\n",
              "    </tr>\n",
              "    <tr>\n",
              "      <th>preseason</th>\n",
              "      <td>12.00</td>\n",
              "      <td>19.00</td>\n",
              "      <td>28.00</td>\n",
              "      <td>37.00</td>\n",
              "      <td>36.00</td>\n",
              "      <td>43.00</td>\n",
              "      <td>61.00</td>\n",
              "      <td>66.00</td>\n",
              "      <td>72.00</td>\n",
              "      <td>75.0</td>\n",
              "      <td>87.0</td>\n",
              "      <td>104.00</td>\n",
              "      <td>117.00</td>\n",
              "      <td>134.00</td>\n",
              "      <td>153.00</td>\n",
              "      <td>167.00</td>\n",
              "      <td>182.0</td>\n",
              "    </tr>\n",
              "    <tr>\n",
              "      <th>ratio</th>\n",
              "      <td>0.28</td>\n",
              "      <td>0.35</td>\n",
              "      <td>0.41</td>\n",
              "      <td>0.51</td>\n",
              "      <td>0.42</td>\n",
              "      <td>0.44</td>\n",
              "      <td>0.53</td>\n",
              "      <td>0.53</td>\n",
              "      <td>0.55</td>\n",
              "      <td>0.5</td>\n",
              "      <td>0.5</td>\n",
              "      <td>0.54</td>\n",
              "      <td>0.63</td>\n",
              "      <td>0.65</td>\n",
              "      <td>0.72</td>\n",
              "      <td>0.77</td>\n",
              "      <td>0.8</td>\n",
              "    </tr>\n",
              "  </tbody>\n",
              "</table>\n",
              "</div>"
            ],
            "text/plain": [
              "year        2002   2003   2004   2005  ...    2015    2016    2017   2018\n",
              "regular    43.00  54.00  68.00  73.00  ...  207.00  213.00  217.00  227.0\n",
              "preseason  12.00  19.00  28.00  37.00  ...  134.00  153.00  167.00  182.0\n",
              "ratio       0.28   0.35   0.41   0.51  ...    0.65    0.72    0.77    0.8\n",
              "\n",
              "[3 rows x 17 columns]"
            ]
          },
          "metadata": {},
          "execution_count": 7
        }
      ]
    },
    {
      "cell_type": "code",
      "metadata": {
        "colab": {
          "base_uri": "https://localhost:8080/"
        },
        "id": "D-TTWgJJ2Hil",
        "outputId": "0d176438-c15e-470a-ad51-a9cde0170526"
      },
      "source": [
        "# 타자의 이름과 연도를 이용해 새로운 인덱스를 생성\n",
        "regular_season_df['new_idx'] = regular_season_df['batter_name'] + regular_season_df['year'].apply(str)\n",
        "preseason_df['new_idx'] = preseason_df['batter_name'] + preseason_df['year'].apply(str)\n",
        "\n",
        "# 새로운 인덱스의 교집합\n",
        "intersection_idx = list(set(regular_season_df['new_idx']).intersection(preseason_df['new_idx']))\n",
        "\n",
        "# 교집합에 존재하는 데이터만 불러오기\n",
        "regular_season_new = regular_season_df.loc[regular_season_df['new_idx'].apply(lambda x: x in intersection_idx)].copy()\n",
        "preseason_new = preseason_df.loc[preseason_df['new_idx'].apply(lambda x: x in intersection_idx)].copy()\n",
        "\n",
        "# 비교를 위해 인덱스로 정렬\n",
        "regular_season_new = regular_season_new.sort_values(by='new_idx').reset_index(drop=True)\n",
        "preseason_new = preseason_new.sort_values(by='new_idx').reset_index(drop=True)\n",
        "\n",
        "# 검정 코드\n",
        "print(regular_season_new.shape, preseason_new.shape)\n",
        "sum(regular_season_new['new_idx'] == preseason_new['new_idx'])"
      ],
      "execution_count": null,
      "outputs": [
        {
          "output_type": "stream",
          "name": "stdout",
          "text": [
            "(1358, 30) (1358, 30)\n"
          ]
        },
        {
          "output_type": "execute_result",
          "data": {
            "text/plain": [
              "1358"
            ]
          },
          "metadata": {},
          "execution_count": 8
        }
      ]
    },
    {
      "cell_type": "code",
      "metadata": {
        "colab": {
          "base_uri": "https://localhost:8080/",
          "height": 303
        },
        "id": "x3EDXMKk4b0u",
        "outputId": "641002a3-3193-4569-c4e5-62b31ca22412"
      },
      "source": [
        "# 정규시즌과 프리시즌의 상관관계 계산\n",
        "correlation = regular_season_new['OPS'].corr(preseason_new['OPS'])\n",
        "sns.scatterplot(x=regular_season_new['OPS'], y=preseason_new['OPS'])\n",
        "plt.title('Correlations:'+str(np.round(correlation, 2)), fontsize=20)\n",
        "plt.xlabel('정규시즌 OPS', fontsize=12)\n",
        "plt.ylabel('프리시즌 OPS', fontsize=12)\n",
        "plt.show()"
      ],
      "execution_count": null,
      "outputs": [
        {
          "output_type": "display_data",
          "data": {
            "image/png": "[encoded data removed]",
            "text/plain": [
              "<Figure size 432x288 with 1 Axes>"
            ]
          },
          "metadata": {
            "needs_background": "light"
          }
        }
      ]
    },
    {
      "cell_type": "markdown",
      "metadata": {
        "id": "iNoscBcc9YL9"
      },
      "source": [
        "정규시즌과 프리시즌의 성적 분포가 선형적인 모습일 띠고 있지 않으므로 서로 상관성이 낮음을 확인할 수 있다. \n",
        "\n",
        "대회의 예측 대상이 정규시즌의 성적이기 때문에 프리시즌 데이터를 이용하지 않는 것이 더 정밀한 결과를 도출할것"
      ]
    },
    {
      "cell_type": "markdown",
      "metadata": {
        "id": "1tVwobNQ-IlQ"
      },
      "source": [
        "**1.2 정규시즌 데이터 분석**"
      ]
    },
    {
      "cell_type": "code",
      "metadata": {
        "colab": {
          "base_uri": "https://localhost:8080/",
          "height": 528
        },
        "id": "O3GxYM4K9kND",
        "outputId": "2620715b-5241-4253-88d2-786ef2657ecc"
      },
      "source": [
        "regular_season_df = pd.read_csv('Regular_Season_Batter.csv')\n",
        "display(regular_season_df.shape, regular_season_df.head())\n",
        "regular_season_df.describe()"
      ],
      "execution_count": null,
      "outputs": [
        {
          "output_type": "display_data",
          "data": {
            "text/plain": [
              "(2454, 29)"
            ]
          },
          "metadata": {}
        },
        {
          "output_type": "display_data",
          "data": {
            "text/html": [
              "<div>\n",
              "<style scoped>\n",
              "    .dataframe tbody tr th:only-of-type {\n",
              "        vertical-align: middle;\n",
              "    }\n",
              "\n",
              "    .dataframe tbody tr th {\n",
              "        vertical-align: top;\n",
              "    }\n",
              "\n",
              "    .dataframe thead th {\n",
              "        text-align: right;\n",
              "    }\n",
              "</style>\n",
              "<table border=\"1\" class=\"dataframe\">\n",
              "  <thead>\n",
              "    <tr style=\"text-align: right;\">\n",
              "      <th></th>\n",
              "      <th>batter_id</th>\n",
              "      <th>batter_name</th>\n",
              "      <th>year</th>\n",
              "      <th>team</th>\n",
              "      <th>avg</th>\n",
              "      <th>G</th>\n",
              "      <th>AB</th>\n",
              "      <th>R</th>\n",
              "      <th>H</th>\n",
              "      <th>2B</th>\n",
              "      <th>3B</th>\n",
              "      <th>HR</th>\n",
              "      <th>TB</th>\n",
              "      <th>RBI</th>\n",
              "      <th>SB</th>\n",
              "      <th>CS</th>\n",
              "      <th>BB</th>\n",
              "      <th>HBP</th>\n",
              "      <th>SO</th>\n",
              "      <th>GDP</th>\n",
              "      <th>SLG</th>\n",
              "      <th>OBP</th>\n",
              "      <th>E</th>\n",
              "      <th>height/weight</th>\n",
              "      <th>year_born</th>\n",
              "      <th>position</th>\n",
              "      <th>career</th>\n",
              "      <th>starting_salary</th>\n",
              "      <th>OPS</th>\n",
              "    </tr>\n",
              "  </thead>\n",
              "  <tbody>\n",
              "    <tr>\n",
              "      <th>0</th>\n",
              "      <td>0</td>\n",
              "      <td>가르시아</td>\n",
              "      <td>2018</td>\n",
              "      <td>LG</td>\n",
              "      <td>0.339</td>\n",
              "      <td>50</td>\n",
              "      <td>183</td>\n",
              "      <td>27</td>\n",
              "      <td>62</td>\n",
              "      <td>9</td>\n",
              "      <td>0</td>\n",
              "      <td>8</td>\n",
              "      <td>95</td>\n",
              "      <td>34</td>\n",
              "      <td>5</td>\n",
              "      <td>0</td>\n",
              "      <td>9</td>\n",
              "      <td>8</td>\n",
              "      <td>25</td>\n",
              "      <td>3</td>\n",
              "      <td>0.519</td>\n",
              "      <td>0.383</td>\n",
              "      <td>9</td>\n",
              "      <td>177cm/93kg</td>\n",
              "      <td>1985년 04월 12일</td>\n",
              "      <td>내야수(우투우타)</td>\n",
              "      <td>쿠바 Ciego de Avila Maximo Gomez Baez(대)</td>\n",
              "      <td>NaN</td>\n",
              "      <td>0.902</td>\n",
              "    </tr>\n",
              "    <tr>\n",
              "      <th>1</th>\n",
              "      <td>1</td>\n",
              "      <td>강경학</td>\n",
              "      <td>2011</td>\n",
              "      <td>한화</td>\n",
              "      <td>0.000</td>\n",
              "      <td>2</td>\n",
              "      <td>1</td>\n",
              "      <td>0</td>\n",
              "      <td>0</td>\n",
              "      <td>0</td>\n",
              "      <td>0</td>\n",
              "      <td>0</td>\n",
              "      <td>0</td>\n",
              "      <td>0</td>\n",
              "      <td>0</td>\n",
              "      <td>0</td>\n",
              "      <td>0</td>\n",
              "      <td>0</td>\n",
              "      <td>1</td>\n",
              "      <td>0</td>\n",
              "      <td>0.000</td>\n",
              "      <td>0.000</td>\n",
              "      <td>1</td>\n",
              "      <td>180cm/72kg</td>\n",
              "      <td>1992년 08월 11일</td>\n",
              "      <td>내야수(우투좌타)</td>\n",
              "      <td>광주대성초-광주동성중-광주동성고</td>\n",
              "      <td>10000만원</td>\n",
              "      <td>0.000</td>\n",
              "    </tr>\n",
              "    <tr>\n",
              "      <th>2</th>\n",
              "      <td>1</td>\n",
              "      <td>강경학</td>\n",
              "      <td>2014</td>\n",
              "      <td>한화</td>\n",
              "      <td>0.221</td>\n",
              "      <td>41</td>\n",
              "      <td>86</td>\n",
              "      <td>11</td>\n",
              "      <td>19</td>\n",
              "      <td>2</td>\n",
              "      <td>3</td>\n",
              "      <td>1</td>\n",
              "      <td>30</td>\n",
              "      <td>7</td>\n",
              "      <td>0</td>\n",
              "      <td>0</td>\n",
              "      <td>13</td>\n",
              "      <td>2</td>\n",
              "      <td>28</td>\n",
              "      <td>1</td>\n",
              "      <td>0.349</td>\n",
              "      <td>0.337</td>\n",
              "      <td>6</td>\n",
              "      <td>180cm/72kg</td>\n",
              "      <td>1992년 08월 11일</td>\n",
              "      <td>내야수(우투좌타)</td>\n",
              "      <td>광주대성초-광주동성중-광주동성고</td>\n",
              "      <td>10000만원</td>\n",
              "      <td>0.686</td>\n",
              "    </tr>\n",
              "    <tr>\n",
              "      <th>3</th>\n",
              "      <td>1</td>\n",
              "      <td>강경학</td>\n",
              "      <td>2015</td>\n",
              "      <td>한화</td>\n",
              "      <td>0.257</td>\n",
              "      <td>120</td>\n",
              "      <td>311</td>\n",
              "      <td>50</td>\n",
              "      <td>80</td>\n",
              "      <td>7</td>\n",
              "      <td>4</td>\n",
              "      <td>2</td>\n",
              "      <td>101</td>\n",
              "      <td>27</td>\n",
              "      <td>4</td>\n",
              "      <td>3</td>\n",
              "      <td>40</td>\n",
              "      <td>5</td>\n",
              "      <td>58</td>\n",
              "      <td>3</td>\n",
              "      <td>0.325</td>\n",
              "      <td>0.348</td>\n",
              "      <td>15</td>\n",
              "      <td>180cm/72kg</td>\n",
              "      <td>1992년 08월 11일</td>\n",
              "      <td>내야수(우투좌타)</td>\n",
              "      <td>광주대성초-광주동성중-광주동성고</td>\n",
              "      <td>10000만원</td>\n",
              "      <td>0.673</td>\n",
              "    </tr>\n",
              "    <tr>\n",
              "      <th>4</th>\n",
              "      <td>1</td>\n",
              "      <td>강경학</td>\n",
              "      <td>2016</td>\n",
              "      <td>한화</td>\n",
              "      <td>0.158</td>\n",
              "      <td>46</td>\n",
              "      <td>101</td>\n",
              "      <td>16</td>\n",
              "      <td>16</td>\n",
              "      <td>3</td>\n",
              "      <td>2</td>\n",
              "      <td>1</td>\n",
              "      <td>26</td>\n",
              "      <td>7</td>\n",
              "      <td>0</td>\n",
              "      <td>0</td>\n",
              "      <td>8</td>\n",
              "      <td>2</td>\n",
              "      <td>30</td>\n",
              "      <td>5</td>\n",
              "      <td>0.257</td>\n",
              "      <td>0.232</td>\n",
              "      <td>7</td>\n",
              "      <td>180cm/72kg</td>\n",
              "      <td>1992년 08월 11일</td>\n",
              "      <td>내야수(우투좌타)</td>\n",
              "      <td>광주대성초-광주동성중-광주동성고</td>\n",
              "      <td>10000만원</td>\n",
              "      <td>0.489</td>\n",
              "    </tr>\n",
              "  </tbody>\n",
              "</table>\n",
              "</div>"
            ],
            "text/plain": [
              "   batter_id batter_name  ...  starting_salary    OPS\n",
              "0          0        가르시아  ...              NaN  0.902\n",
              "1          1         강경학  ...          10000만원  0.000\n",
              "2          1         강경학  ...          10000만원  0.686\n",
              "3          1         강경학  ...          10000만원  0.673\n",
              "4          1         강경학  ...          10000만원  0.489\n",
              "\n",
              "[5 rows x 29 columns]"
            ]
          },
          "metadata": {}
        },
        {
          "output_type": "execute_result",
          "data": {
            "text/html": [
              "<div>\n",
              "<style scoped>\n",
              "    .dataframe tbody tr th:only-of-type {\n",
              "        vertical-align: middle;\n",
              "    }\n",
              "\n",
              "    .dataframe tbody tr th {\n",
              "        vertical-align: top;\n",
              "    }\n",
              "\n",
              "    .dataframe thead th {\n",
              "        text-align: right;\n",
              "    }\n",
              "</style>\n",
              "<table border=\"1\" class=\"dataframe\">\n",
              "  <thead>\n",
              "    <tr style=\"text-align: right;\">\n",
              "      <th></th>\n",
              "      <th>batter_id</th>\n",
              "      <th>year</th>\n",
              "      <th>avg</th>\n",
              "      <th>G</th>\n",
              "      <th>AB</th>\n",
              "      <th>R</th>\n",
              "      <th>H</th>\n",
              "      <th>2B</th>\n",
              "      <th>3B</th>\n",
              "      <th>HR</th>\n",
              "      <th>TB</th>\n",
              "      <th>RBI</th>\n",
              "      <th>SB</th>\n",
              "      <th>CS</th>\n",
              "      <th>BB</th>\n",
              "      <th>HBP</th>\n",
              "      <th>SO</th>\n",
              "      <th>GDP</th>\n",
              "      <th>SLG</th>\n",
              "      <th>OBP</th>\n",
              "      <th>E</th>\n",
              "      <th>OPS</th>\n",
              "    </tr>\n",
              "  </thead>\n",
              "  <tbody>\n",
              "    <tr>\n",
              "      <th>count</th>\n",
              "      <td>2454.000000</td>\n",
              "      <td>2454.000000</td>\n",
              "      <td>2428.000000</td>\n",
              "      <td>2454.000000</td>\n",
              "      <td>2454.000000</td>\n",
              "      <td>2454.000000</td>\n",
              "      <td>2454.000000</td>\n",
              "      <td>2454.000000</td>\n",
              "      <td>2454.000000</td>\n",
              "      <td>2454.000000</td>\n",
              "      <td>2454.000000</td>\n",
              "      <td>2454.000000</td>\n",
              "      <td>2454.000000</td>\n",
              "      <td>2454.000000</td>\n",
              "      <td>2454.000000</td>\n",
              "      <td>2454.000000</td>\n",
              "      <td>2454.000000</td>\n",
              "      <td>2454.000000</td>\n",
              "      <td>2428.000000</td>\n",
              "      <td>2430.000000</td>\n",
              "      <td>2454.000000</td>\n",
              "      <td>2428.000000</td>\n",
              "    </tr>\n",
              "    <tr>\n",
              "      <th>mean</th>\n",
              "      <td>178.079462</td>\n",
              "      <td>2011.614507</td>\n",
              "      <td>0.237559</td>\n",
              "      <td>72.535045</td>\n",
              "      <td>201.514670</td>\n",
              "      <td>29.912388</td>\n",
              "      <td>55.988183</td>\n",
              "      <td>9.863488</td>\n",
              "      <td>0.957620</td>\n",
              "      <td>5.504075</td>\n",
              "      <td>84.279136</td>\n",
              "      <td>27.788509</td>\n",
              "      <td>5.290139</td>\n",
              "      <td>2.335778</td>\n",
              "      <td>20.943765</td>\n",
              "      <td>3.424613</td>\n",
              "      <td>38.596985</td>\n",
              "      <td>4.603504</td>\n",
              "      <td>0.343826</td>\n",
              "      <td>0.306684</td>\n",
              "      <td>3.676447</td>\n",
              "      <td>0.649939</td>\n",
              "    </tr>\n",
              "    <tr>\n",
              "      <th>std</th>\n",
              "      <td>97.557947</td>\n",
              "      <td>4.992833</td>\n",
              "      <td>0.098440</td>\n",
              "      <td>45.093871</td>\n",
              "      <td>169.537029</td>\n",
              "      <td>28.778759</td>\n",
              "      <td>52.253844</td>\n",
              "      <td>9.871314</td>\n",
              "      <td>1.647193</td>\n",
              "      <td>7.989380</td>\n",
              "      <td>82.854200</td>\n",
              "      <td>29.602966</td>\n",
              "      <td>9.088580</td>\n",
              "      <td>3.194045</td>\n",
              "      <td>21.206113</td>\n",
              "      <td>4.132614</td>\n",
              "      <td>31.801466</td>\n",
              "      <td>4.713531</td>\n",
              "      <td>0.163335</td>\n",
              "      <td>0.111778</td>\n",
              "      <td>4.585248</td>\n",
              "      <td>0.261634</td>\n",
              "    </tr>\n",
              "    <tr>\n",
              "      <th>min</th>\n",
              "      <td>0.000000</td>\n",
              "      <td>1993.000000</td>\n",
              "      <td>0.000000</td>\n",
              "      <td>1.000000</td>\n",
              "      <td>0.000000</td>\n",
              "      <td>0.000000</td>\n",
              "      <td>0.000000</td>\n",
              "      <td>0.000000</td>\n",
              "      <td>0.000000</td>\n",
              "      <td>0.000000</td>\n",
              "      <td>0.000000</td>\n",
              "      <td>0.000000</td>\n",
              "      <td>0.000000</td>\n",
              "      <td>0.000000</td>\n",
              "      <td>0.000000</td>\n",
              "      <td>0.000000</td>\n",
              "      <td>0.000000</td>\n",
              "      <td>0.000000</td>\n",
              "      <td>0.000000</td>\n",
              "      <td>0.000000</td>\n",
              "      <td>0.000000</td>\n",
              "      <td>0.000000</td>\n",
              "    </tr>\n",
              "    <tr>\n",
              "      <th>25%</th>\n",
              "      <td>101.250000</td>\n",
              "      <td>2008.000000</td>\n",
              "      <td>0.203000</td>\n",
              "      <td>28.000000</td>\n",
              "      <td>38.250000</td>\n",
              "      <td>5.000000</td>\n",
              "      <td>8.000000</td>\n",
              "      <td>1.000000</td>\n",
              "      <td>0.000000</td>\n",
              "      <td>0.000000</td>\n",
              "      <td>10.000000</td>\n",
              "      <td>3.000000</td>\n",
              "      <td>0.000000</td>\n",
              "      <td>0.000000</td>\n",
              "      <td>3.000000</td>\n",
              "      <td>0.000000</td>\n",
              "      <td>10.000000</td>\n",
              "      <td>1.000000</td>\n",
              "      <td>0.267454</td>\n",
              "      <td>0.272727</td>\n",
              "      <td>0.000000</td>\n",
              "      <td>0.546000</td>\n",
              "    </tr>\n",
              "    <tr>\n",
              "      <th>50%</th>\n",
              "      <td>183.000000</td>\n",
              "      <td>2013.000000</td>\n",
              "      <td>0.255000</td>\n",
              "      <td>79.000000</td>\n",
              "      <td>163.000000</td>\n",
              "      <td>21.000000</td>\n",
              "      <td>40.000000</td>\n",
              "      <td>7.000000</td>\n",
              "      <td>0.000000</td>\n",
              "      <td>2.000000</td>\n",
              "      <td>56.000000</td>\n",
              "      <td>17.000000</td>\n",
              "      <td>2.000000</td>\n",
              "      <td>1.000000</td>\n",
              "      <td>14.000000</td>\n",
              "      <td>2.000000</td>\n",
              "      <td>33.000000</td>\n",
              "      <td>3.000000</td>\n",
              "      <td>0.360124</td>\n",
              "      <td>0.328592</td>\n",
              "      <td>2.000000</td>\n",
              "      <td>0.688637</td>\n",
              "    </tr>\n",
              "    <tr>\n",
              "      <th>75%</th>\n",
              "      <td>265.000000</td>\n",
              "      <td>2016.000000</td>\n",
              "      <td>0.291000</td>\n",
              "      <td>115.000000</td>\n",
              "      <td>357.500000</td>\n",
              "      <td>49.000000</td>\n",
              "      <td>100.000000</td>\n",
              "      <td>16.000000</td>\n",
              "      <td>1.000000</td>\n",
              "      <td>8.000000</td>\n",
              "      <td>146.000000</td>\n",
              "      <td>44.000000</td>\n",
              "      <td>6.000000</td>\n",
              "      <td>3.000000</td>\n",
              "      <td>34.000000</td>\n",
              "      <td>5.000000</td>\n",
              "      <td>60.000000</td>\n",
              "      <td>7.000000</td>\n",
              "      <td>0.436000</td>\n",
              "      <td>0.367000</td>\n",
              "      <td>5.000000</td>\n",
              "      <td>0.797234</td>\n",
              "    </tr>\n",
              "    <tr>\n",
              "      <th>max</th>\n",
              "      <td>344.000000</td>\n",
              "      <td>2018.000000</td>\n",
              "      <td>1.000000</td>\n",
              "      <td>144.000000</td>\n",
              "      <td>600.000000</td>\n",
              "      <td>135.000000</td>\n",
              "      <td>201.000000</td>\n",
              "      <td>47.000000</td>\n",
              "      <td>17.000000</td>\n",
              "      <td>53.000000</td>\n",
              "      <td>377.000000</td>\n",
              "      <td>146.000000</td>\n",
              "      <td>84.000000</td>\n",
              "      <td>21.000000</td>\n",
              "      <td>108.000000</td>\n",
              "      <td>27.000000</td>\n",
              "      <td>161.000000</td>\n",
              "      <td>24.000000</td>\n",
              "      <td>3.000000</td>\n",
              "      <td>1.000000</td>\n",
              "      <td>30.000000</td>\n",
              "      <td>4.000000</td>\n",
              "    </tr>\n",
              "  </tbody>\n",
              "</table>\n",
              "</div>"
            ],
            "text/plain": [
              "         batter_id         year  ...            E          OPS\n",
              "count  2454.000000  2454.000000  ...  2454.000000  2428.000000\n",
              "mean    178.079462  2011.614507  ...     3.676447     0.649939\n",
              "std      97.557947     4.992833  ...     4.585248     0.261634\n",
              "min       0.000000  1993.000000  ...     0.000000     0.000000\n",
              "25%     101.250000  2008.000000  ...     0.000000     0.546000\n",
              "50%     183.000000  2013.000000  ...     2.000000     0.688637\n",
              "75%     265.000000  2016.000000  ...     5.000000     0.797234\n",
              "max     344.000000  2018.000000  ...    30.000000     4.000000\n",
              "\n",
              "[8 rows x 22 columns]"
            ]
          },
          "metadata": {},
          "execution_count": 10
        }
      ]
    },
    {
      "cell_type": "code",
      "metadata": {
        "colab": {
          "base_uri": "https://localhost:8080/",
          "height": 657
        },
        "id": "Xqnc1ATv-nuT",
        "outputId": "bc0130af-def7-4061-8869-430631ef1d7a"
      },
      "source": [
        "# 정규시즌 데이터를 히스토그램으로 시각화\n",
        "regular_season_df.hist(figsize=(10,9))\n",
        "plt.tight_layout()\n",
        "plt.show()"
      ],
      "execution_count": null,
      "outputs": [
        {
          "output_type": "display_data",
          "data": {
            "image/png": "[encoded data removed]",
            "text/plain": [
              "<Figure size 720x648 with 25 Axes>"
            ]
          },
          "metadata": {
            "needs_background": "light"
          }
        }
      ]
    },
    {
      "cell_type": "code",
      "metadata": {
        "colab": {
          "base_uri": "https://localhost:8080/",
          "height": 424
        },
        "id": "oY_RQU-2_0RM",
        "outputId": "de4ed94e-a7e6-4947-d05c-cb52e5ff272b"
      },
      "source": [
        "plt.figure(figsize=(15, 6))\n",
        "plt.subplot(1, 2, 1)\n",
        "g = sns.boxplot(x='year', y='OPS', data=regular_season_df, showfliers=False)\n",
        "g.set_title('연도별 OPS 상자그림', size=20)\n",
        "g.set_xticklabels(g.get_xticklabels(), rotation=90)\n",
        "plt.subplot(1, 2, 2)\n",
        "plt.plot(regular_season_df.groupby('year')['OPS'].median())\n",
        "plt.title('연도별 OPS 중앙값', size=20)\n",
        "plt.show()"
      ],
      "execution_count": null,
      "outputs": [
        {
          "output_type": "display_data",
          "data": {
            "image/png": "[encoded data removed]",
            "text/plain": [
              "<Figure size 1080x432 with 2 Axes>"
            ]
          },
          "metadata": {
            "needs_background": "light"
          }
        }
      ]
    },
    {
      "cell_type": "markdown",
      "metadata": {
        "id": "r2N0WemdBhiP"
      },
      "source": [
        "연도별 OPS의 분포를 상자그림을 통해 확인한 결과, 대부분 비슷한 형태를 띠고 있지만 연도별 중앙값을 살펴보면 2000년도를 기준으로  OPS의 변동이 차이가 있다.\n",
        "\n",
        "2000년도 이전의 기록은 변동이 상당히 큰 것을 확인할 수 있고 그 이후로는 변동폭이 크지 않은 추세를 보인다."
      ]
    },
    {
      "cell_type": "code",
      "metadata": {
        "colab": {
          "base_uri": "https://localhost:8080/",
          "height": 112
        },
        "id": "Wz3ZSXvACQbI",
        "outputId": "3136b7bc-915a-46a4-a876-e60aa5a6e6ed"
      },
      "source": [
        "pd.crosstab(regular_season_df['year'], 'count').T"
      ],
      "execution_count": null,
      "outputs": [
        {
          "output_type": "execute_result",
          "data": {
            "text/html": [
              "<div>\n",
              "<style scoped>\n",
              "    .dataframe tbody tr th:only-of-type {\n",
              "        vertical-align: middle;\n",
              "    }\n",
              "\n",
              "    .dataframe tbody tr th {\n",
              "        vertical-align: top;\n",
              "    }\n",
              "\n",
              "    .dataframe thead th {\n",
              "        text-align: right;\n",
              "    }\n",
              "</style>\n",
              "<table border=\"1\" class=\"dataframe\">\n",
              "  <thead>\n",
              "    <tr style=\"text-align: right;\">\n",
              "      <th>year</th>\n",
              "      <th>1993</th>\n",
              "      <th>1994</th>\n",
              "      <th>1995</th>\n",
              "      <th>1996</th>\n",
              "      <th>1997</th>\n",
              "      <th>1998</th>\n",
              "      <th>1999</th>\n",
              "      <th>2000</th>\n",
              "      <th>2001</th>\n",
              "      <th>2002</th>\n",
              "      <th>2003</th>\n",
              "      <th>2004</th>\n",
              "      <th>2005</th>\n",
              "      <th>2006</th>\n",
              "      <th>2007</th>\n",
              "      <th>2008</th>\n",
              "      <th>2009</th>\n",
              "      <th>2010</th>\n",
              "      <th>2011</th>\n",
              "      <th>2012</th>\n",
              "      <th>2013</th>\n",
              "      <th>2014</th>\n",
              "      <th>2015</th>\n",
              "      <th>2016</th>\n",
              "      <th>2017</th>\n",
              "      <th>2018</th>\n",
              "    </tr>\n",
              "    <tr>\n",
              "      <th>col_0</th>\n",
              "      <th></th>\n",
              "      <th></th>\n",
              "      <th></th>\n",
              "      <th></th>\n",
              "      <th></th>\n",
              "      <th></th>\n",
              "      <th></th>\n",
              "      <th></th>\n",
              "      <th></th>\n",
              "      <th></th>\n",
              "      <th></th>\n",
              "      <th></th>\n",
              "      <th></th>\n",
              "      <th></th>\n",
              "      <th></th>\n",
              "      <th></th>\n",
              "      <th></th>\n",
              "      <th></th>\n",
              "      <th></th>\n",
              "      <th></th>\n",
              "      <th></th>\n",
              "      <th></th>\n",
              "      <th></th>\n",
              "      <th></th>\n",
              "      <th></th>\n",
              "      <th></th>\n",
              "    </tr>\n",
              "  </thead>\n",
              "  <tbody>\n",
              "    <tr>\n",
              "      <th>count</th>\n",
              "      <td>1</td>\n",
              "      <td>2</td>\n",
              "      <td>1</td>\n",
              "      <td>7</td>\n",
              "      <td>8</td>\n",
              "      <td>10</td>\n",
              "      <td>14</td>\n",
              "      <td>20</td>\n",
              "      <td>32</td>\n",
              "      <td>43</td>\n",
              "      <td>54</td>\n",
              "      <td>68</td>\n",
              "      <td>73</td>\n",
              "      <td>85</td>\n",
              "      <td>98</td>\n",
              "      <td>115</td>\n",
              "      <td>124</td>\n",
              "      <td>130</td>\n",
              "      <td>151</td>\n",
              "      <td>174</td>\n",
              "      <td>194</td>\n",
              "      <td>186</td>\n",
              "      <td>207</td>\n",
              "      <td>213</td>\n",
              "      <td>217</td>\n",
              "      <td>227</td>\n",
              "    </tr>\n",
              "  </tbody>\n",
              "</table>\n",
              "</div>"
            ],
            "text/plain": [
              "year   1993  1994  1995  1996  1997  1998  ...  2013  2014  2015  2016  2017  2018\n",
              "col_0                                      ...                                    \n",
              "count     1     2     1     7     8    10  ...   194   186   207   213   217   227\n",
              "\n",
              "[1 rows x 26 columns]"
            ]
          },
          "metadata": {},
          "execution_count": 13
        }
      ]
    },
    {
      "cell_type": "markdown",
      "metadata": {
        "id": "-PAuve2GCjxW"
      },
      "source": [
        "데이터를 확인할 결과 200년도 이전에는 기록의 상대적으로 매우 적었음을 알 수 있고\n",
        "\n",
        "이 때문에 2000년도 이전 OPS의 변동 폭이 컸던 것임을 유추할 수 있다."
      ]
    },
    {
      "cell_type": "code",
      "metadata": {
        "colab": {
          "base_uri": "https://localhost:8080/",
          "height": 280
        },
        "id": "Jlnj6lBLC5em",
        "outputId": "d00c256b-daed-4d09-90b2-70e760e6c815"
      },
      "source": [
        "# 연도별 팀의 OPS 중앙값 계산\n",
        "med_OPS_team = regular_season_df.pivot_table(index=['team'], columns='year', values='OPS', aggfunc='median')\n",
        "\n",
        "#2005년 이후에 결측치가 존재하지 않는 팀만 확인\n",
        "team_idx = med_OPS_team.loc[:,2005:].isna().sum(axis=1) == 0\n",
        "\n",
        "plt.plot(med_OPS_team.loc[team_idx, 2005:].T)\n",
        "plt.legend(med_OPS_team.loc[team_idx, 2005:].T.columns, loc='center left', bbox_to_anchor=(1, 0.5)) # 그래프 범례를 그래프 밖에 위치\n",
        "plt.title('팀별 성적')\n",
        "plt.show()"
      ],
      "execution_count": null,
      "outputs": [
        {
          "output_type": "display_data",
          "data": {
            "image/png": "[encoded data removed]",
            "text/plain": [
              "<Figure size 432x288 with 1 Axes>"
            ]
          },
          "metadata": {
            "needs_background": "light"
          }
        }
      ]
    },
    {
      "cell_type": "code",
      "metadata": {
        "colab": {
          "base_uri": "https://localhost:8080/"
        },
        "id": "ZIEh6aZZDLlG",
        "outputId": "c768018e-f012-4543-be81-e6755c5e14f7"
      },
      "source": [
        "import re\n",
        "\n",
        "regular_season_df['weight'] = regular_season_df['height/weight'].apply(lambda x: int(re.findall('\\d+', x.split('/')[1])[0]) if pd.notnull(x) else x)\n",
        "regular_season_df['height'] = regular_season_df['height/weight'].apply(lambda x: int(re.findall('\\d+', x.split('/')[0])[0]) if pd.notnull(x) else x)\n",
        "\n",
        "print(regular_season_df['height/weight'][0], regular_season_df['height'][0], regular_season_df['weight'][0])"
      ],
      "execution_count": null,
      "outputs": [
        {
          "output_type": "stream",
          "name": "stdout",
          "text": [
            "177cm/93kg 177.0 93.0\n"
          ]
        }
      ]
    },
    {
      "cell_type": "code",
      "metadata": {
        "colab": {
          "base_uri": "https://localhost:8080/",
          "height": 354
        },
        "id": "YVXmIHUcGebq",
        "outputId": "93fe9a13-b862-4593-fa5c-57b268a7e38e"
      },
      "source": [
        "# 몸무게/키 계산\n",
        "regular_season_df['weight_per_height'] = regular_season_df['weight'] / regular_season_df['height']\n",
        "\n",
        "# 그래프 크기 조정\n",
        "plt.figure(figsize=(15, 5))\n",
        "\n",
        "# 몸무게/키와 OBP의 상관관계 계산\n",
        "plt.subplot(1, 2, 1)\n",
        "correlation = regular_season_df['weight_per_height'].corr(regular_season_df['OBP'])\n",
        "sns.scatterplot(x = regular_season_df['weight_per_height'], y = regular_season_df['OBP'])\n",
        "plt.title('몸무게/키 와 OBP 상관관계:' + str(np.round(correlation, 2)), fontsize=15)\n",
        "plt.ylabel('정규시즌 OBP', fontsize=12)\n",
        "plt.xlabel('몸무게/키', fontsize=12)\n",
        "\n",
        "# 몸무게/키와 SLG의 상관관계 계산\n",
        "plt.subplot(1, 2, 2)\n",
        "correlation = regular_season_df['weight_per_height'].corr(regular_season_df['SLG'])\n",
        "sns.scatterplot(x = regular_season_df['weight_per_height'], y = regular_season_df['SLG'])\n",
        "plt.title('몸무게/키와 SLG 상관관계:' + str(np.round(correlation, 2)), fontsize=15)\n",
        "plt.xlabel('몸무게/키', fontsize=12)\n",
        "plt.ylabel('정규시즌 SLG', fontsize=12)\n",
        "\n",
        "plt.show()"
      ],
      "execution_count": null,
      "outputs": [
        {
          "output_type": "display_data",
          "data": {
            "image/png": "[encoded data removed]",
            "text/plain": [
              "<Figure size 1080x360 with 2 Axes>"
            ]
          },
          "metadata": {
            "needs_background": "light"
          }
        }
      ]
    },
    {
      "cell_type": "markdown",
      "metadata": {
        "id": "_PgFZqdwMbIJ"
      },
      "source": [
        "데이터가 선형적인 모습을 띠지 않고 분포가 고르게 되어 있으므로 몸무게 및 키가 장타율과 출루율에 큰 영향을 미치지 않음을 확인할 수 있다."
      ]
    },
    {
      "cell_type": "code",
      "metadata": {
        "colab": {
          "base_uri": "https://localhost:8080/"
        },
        "id": "3mb4ejrhMVm4",
        "outputId": "e68299d8-e66c-4773-b721-0932640cad7b"
      },
      "source": [
        "regular_season_df['position'].value_counts()"
      ],
      "execution_count": null,
      "outputs": [
        {
          "output_type": "execute_result",
          "data": {
            "text/plain": [
              "내야수(우투우타)    643\n",
              "외야수(우투우타)    230\n",
              "외야수(좌투좌타)    201\n",
              "포수(우투우타)     189\n",
              "외야수(우투좌타)    184\n",
              "내야수(우투좌타)    141\n",
              "내야수(좌투좌타)     36\n",
              "포수(우투좌타)      14\n",
              "내야수(우투양타)      7\n",
              "외야수(우투양타)      7\n",
              "Name: position, dtype: int64"
            ]
          },
          "metadata": {},
          "execution_count": 32
        }
      ]
    },
    {
      "cell_type": "code",
      "metadata": {
        "colab": {
          "base_uri": "https://localhost:8080/"
        },
        "id": "h2rdWTR6N8bU",
        "outputId": "ebfc4936-9a2c-4dc0-86e5-adac2a6500ee"
      },
      "source": [
        "# position\n",
        "regular_season_df['pos'] = regular_season_df['position'].apply(lambda x: x.split('(')[0] if pd.notnull(x) else x)\n",
        "\n",
        "# 우타, 좌타, 양타\n",
        "regular_season_df['hit_way'] = regular_season_df['position'].apply(lambda x: x[-3:-1] if pd.notnull(x) else x)\n",
        "\n",
        "print(regular_season_df['position'][0], regular_season_df['pos'][0], regular_season_df['hit_way'][0])"
      ],
      "execution_count": null,
      "outputs": [
        {
          "output_type": "stream",
          "name": "stdout",
          "text": [
            "내야수(우투우타) 내야수 우타\n"
          ]
        }
      ]
    },
    {
      "cell_type": "markdown",
      "metadata": {
        "id": "y3BHxJyJO7pj"
      },
      "source": [
        "타자가 왼손잡이인지 오른손잡이인지, 수비 포지션은 어디인지를 구분"
      ]
    },
    {
      "cell_type": "code",
      "metadata": {
        "colab": {
          "base_uri": "https://localhost:8080/",
          "height": 336
        },
        "id": "saVxUtkMO_yj",
        "outputId": "8de0cd23-363e-4840-ef9e-ba75d35ffec1"
      },
      "source": [
        "plt.figure(figsize=(15, 5))\n",
        "plt.subplot(1, 2, 1)\n",
        "ax = sns.boxplot(x='pos', y='OPS', data=regular_season_df, showfliers=False)\n",
        "\n",
        "# position별 OPS 중앙값\n",
        "medians = regular_season_df.groupby('pos')['OPS'].median().to_dict()\n",
        "\n",
        "# position별 관측지 수\n",
        "nobs = regular_season_df['pos'].value_counts().to_dict()\n",
        "\n",
        "# 키 값을 'n: 값' 형식으로 변환\n",
        "for key in nobs:\n",
        "  nobs[key] = 'n: ' + str(nobs[key])\n",
        "\n",
        "# 그래프의 Xticks text값 얻기\n",
        "xticks_labels = [item.get_text() for item in ax.get_xticklabels()]\n",
        "\n",
        "# tick은 tick의 위치, label은 그에  해당하는 text 값\n",
        "for label in ax.get_xticklabels():\n",
        "  ax.text(xticks_labels.index(label.get_text()), medians[label.get_text()] + 0.03, nobs[label.get_text()], horizontalalignment='center', size='large', color='w', weight='semibold')\n",
        "\n",
        "ax.settitle('포지션별 OPS')\n",
        "\n",
        "plt.subplot(1, 2, 2)"
      ],
      "execution_count": null,
      "outputs": [
        {
          "output_type": "display_data",
          "data": {
            "image/png": "[encoded data removed]",
            "text/plain": [
              "<Figure size 1080x360 with 1 Axes>"
            ]
          },
          "metadata": {
            "needs_background": "light"
          }
        }
      ]
    }
  ]
}